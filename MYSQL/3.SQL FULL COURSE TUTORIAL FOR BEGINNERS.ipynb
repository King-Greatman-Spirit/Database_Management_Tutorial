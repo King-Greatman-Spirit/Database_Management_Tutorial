{
 "cells": [
  {
   "cell_type": "markdown",
   "id": "ee331d59",
   "metadata": {},
   "source": [
    "### ENTITY RELATIONAL (ER) DIAGRAM (3:42:13)"
   ]
  },
  {
   "cell_type": "markdown",
   "id": "f9709811",
   "metadata": {},
   "source": [
    "Database Schema consists of all the different tables & different attributes/relationship that is on the table. \n",
    "\n",
    "ER Diagram is the middle man between the db storage requirements and the actual db schema thats going to be implemented in the DBMS. Its used in mapping out the various attributes, relationships, requirements needed into a db schema.\n",
    "\n",
    "ER Diagram is a diagram that consists of different shapes, symbols and texts all combined together to form a relationship model.\n"
   ]
  },
  {
   "cell_type": "markdown",
   "id": "07dab8e0",
   "metadata": {},
   "source": [
    "*Entity -* An object we want to model & store information about."
   ]
  },
  {
   "cell_type": "markdown",
   "id": "a2faf57f",
   "metadata": {},
   "source": [
    "![](pics/enti.png)"
   ]
  },
  {
   "cell_type": "markdown",
   "id": "afafc534",
   "metadata": {},
   "source": [
    "Attributes - Specific pieces of information about an entity."
   ]
  },
  {
   "cell_type": "markdown",
   "id": "abdd819b",
   "metadata": {},
   "source": [
    "![](pics/attr.png)"
   ]
  },
  {
   "cell_type": "markdown",
   "id": "a69cd40f",
   "metadata": {},
   "source": [
    "Primary Key - An attribute(s) that uniquely identify an entry in the database table. E.g student_id"
   ]
  },
  {
   "cell_type": "markdown",
   "id": "54354682",
   "metadata": {},
   "source": [
    "![](pics/pk.png)"
   ]
  },
  {
   "cell_type": "markdown",
   "id": "ad15014d",
   "metadata": {},
   "source": [
    "Composite Attribute - An attribute that can be broken up into sub-attributes. E.g Student broken into name."
   ]
  },
  {
   "cell_type": "markdown",
   "id": "30ebe6d2",
   "metadata": {},
   "source": [
    "![](pics/comattr.png)"
   ]
  },
  {
   "cell_type": "markdown",
   "id": "ff897f70",
   "metadata": {},
   "source": [
    "Multi-Valued Attribute - An attribute that can have more than one value. E.g A student can have more than one club they belong to."
   ]
  },
  {
   "cell_type": "markdown",
   "id": "854180fd",
   "metadata": {},
   "source": [
    "![](pics/mva.png)"
   ]
  },
  {
   "cell_type": "markdown",
   "id": "9fc3f5fc",
   "metadata": {},
   "source": [
    "Derived attribute - An attribute that can be derived from the other attributes. E.g has_honors."
   ]
  },
  {
   "cell_type": "markdown",
   "id": "fb7694fe",
   "metadata": {},
   "source": [
    "![](pics/dea.png)"
   ]
  },
  {
   "cell_type": "markdown",
   "id": "cfef73b0",
   "metadata": {},
   "source": [
    "Multiple Entities - You can derive more than one entity in the diagram."
   ]
  },
  {
   "cell_type": "markdown",
   "id": "6140cfb6",
   "metadata": {},
   "source": [
    "![](pics/mule.png)"
   ]
  },
  {
   "cell_type": "markdown",
   "id": "97a51433",
   "metadata": {},
   "source": [
    "Relationshps - This defines a relationship between two entities.\n",
    "\n",
    "Total Participation - This refers to all memberes that must participate in the relationship.\n",
    "\n",
    "Double line denotes total participation.\n",
    "\n",
    "Single Line denotes partial participation."
   ]
  },
  {
   "cell_type": "markdown",
   "id": "7c7d9937",
   "metadata": {},
   "source": [
    "![](pics/rela.png)"
   ]
  },
  {
   "cell_type": "markdown",
   "id": "553ba514",
   "metadata": {},
   "source": [
    "Relationship Attribute - An attribute about the relationship."
   ]
  },
  {
   "cell_type": "markdown",
   "id": "961f3f95",
   "metadata": {},
   "source": [
    "![](pics/relaattr.png)"
   ]
  },
  {
   "cell_type": "markdown",
   "id": "57694bda",
   "metadata": {},
   "source": [
    "Relationship Cardinality - The number of instances of an entity from a relation that can be associated with the relation."
   ]
  },
  {
   "cell_type": "markdown",
   "id": "5a2d8618",
   "metadata": {},
   "source": [
    "![](pics/relacar.png)"
   ]
  },
  {
   "cell_type": "markdown",
   "id": "c7c7552f",
   "metadata": {},
   "source": [
    "A weak entity always depends on another entitiy. It cannot be identified uniquely alone. E.g Exam; Exam cannot exist alone, it has to be associated to a class."
   ]
  },
  {
   "cell_type": "markdown",
   "id": "d910a0b7",
   "metadata": {},
   "source": [
    "![](pics/entirela.png)"
   ]
  },
  {
   "cell_type": "markdown",
   "id": "85b7699a",
   "metadata": {},
   "source": [
    "## DESIGNING AN ER DIAGRAM (3:55:52)"
   ]
  },
  {
   "cell_type": "markdown",
   "id": "90095cfe",
   "metadata": {},
   "source": [
    "![](PICS/erdiag.png)"
   ]
  },
  {
   "cell_type": "markdown",
   "id": "e683d3d0",
   "metadata": {},
   "source": [
    "Take the above document, convert it into an ER Diagram and then convert it into a DB Schema. Below are the step by step procedures."
   ]
  },
  {
   "cell_type": "markdown",
   "id": "15c77fcd",
   "metadata": {},
   "source": [
    "![](pics/step1.png)"
   ]
  },
  {
   "cell_type": "markdown",
   "id": "51b4d26a",
   "metadata": {},
   "source": [
    "![](pics/step2.png)"
   ]
  },
  {
   "cell_type": "markdown",
   "id": "a91ee718",
   "metadata": {},
   "source": [
    "![](pics/step3.png)"
   ]
  },
  {
   "cell_type": "markdown",
   "id": "bf3e7db8",
   "metadata": {},
   "source": [
    "![](pics/step4.png)"
   ]
  },
  {
   "cell_type": "markdown",
   "id": "b51ece16",
   "metadata": {},
   "source": [
    "![](pics/step5.png)"
   ]
  },
  {
   "cell_type": "markdown",
   "id": "24143053",
   "metadata": {},
   "source": [
    "![](pics/step6.png)"
   ]
  },
  {
   "cell_type": "markdown",
   "id": "621de7a9",
   "metadata": {},
   "source": [
    "![](pics/step7.png)"
   ]
  },
  {
   "cell_type": "markdown",
   "id": "a133b638",
   "metadata": {},
   "source": [
    "![](pics/step8.png)"
   ]
  },
  {
   "cell_type": "markdown",
   "id": "a8f4dc23",
   "metadata": {},
   "source": [
    "![](pics/step9.png)"
   ]
  },
  {
   "cell_type": "markdown",
   "id": "8e07aa06",
   "metadata": {},
   "source": [
    "![](pics/step10.png)"
   ]
  },
  {
   "cell_type": "markdown",
   "id": "948a68b4",
   "metadata": {},
   "source": [
    "## CONVERTING ENTITY RELATIONAL DIAGRAMS TO DATABASE SCHEMAS"
   ]
  },
  {
   "cell_type": "markdown",
   "id": "e2f4c65f",
   "metadata": {},
   "source": [
    "![](pics/db1.png)"
   ]
  },
  {
   "cell_type": "markdown",
   "id": "beabb9f1",
   "metadata": {},
   "source": [
    "![](pics/db2.png)"
   ]
  },
  {
   "cell_type": "markdown",
   "id": "e997115a",
   "metadata": {},
   "source": [
    "![](pics/db3.png)"
   ]
  },
  {
   "cell_type": "markdown",
   "id": "17a6cb66",
   "metadata": {},
   "source": [
    "![](pics/db4.png)"
   ]
  },
  {
   "cell_type": "markdown",
   "id": "526fa5e9",
   "metadata": {},
   "source": [
    "![](pics/db5.png)"
   ]
  },
  {
   "cell_type": "markdown",
   "id": "06dbfd8e",
   "metadata": {},
   "source": [
    "![](pics/db6.png)"
   ]
  },
  {
   "cell_type": "markdown",
   "id": "a9f6ba63",
   "metadata": {},
   "source": [
    "![](pics/db7.png)"
   ]
  },
  {
   "cell_type": "markdown",
   "id": "4ac24d60",
   "metadata": {},
   "source": [
    "![](pics/db8.png)"
   ]
  },
  {
   "cell_type": "markdown",
   "id": "e937b3cc",
   "metadata": {},
   "source": [
    "![](pics/db9.png)"
   ]
  },
  {
   "cell_type": "markdown",
   "id": "e9600359",
   "metadata": {},
   "source": [
    "![](pics/db10.png)"
   ]
  },
  {
   "cell_type": "markdown",
   "id": "df186459",
   "metadata": {},
   "source": [
    "MAPPING OUT ALL THE DIFFERENT REALTIONSHIPS BETWEEN TABLES"
   ]
  },
  {
   "cell_type": "markdown",
   "id": "bca04b46",
   "metadata": {},
   "source": [
    "![](pics/db11.png)"
   ]
  },
  {
   "cell_type": "markdown",
   "id": "78593cbf",
   "metadata": {},
   "source": [
    "Below is an example,of what the database would look like from the db schema above:"
   ]
  },
  {
   "cell_type": "markdown",
   "id": "4a171347",
   "metadata": {},
   "source": [
    "![](pics/db13.png)"
   ]
  },
  {
   "cell_type": "markdown",
   "id": "d6bc196b",
   "metadata": {},
   "source": [
    "![](pics/db14.png)"
   ]
  },
  {
   "cell_type": "markdown",
   "id": "a780bb2b",
   "metadata": {},
   "source": [
    "![](pics/db15.png)"
   ]
  }
 ],
 "metadata": {
  "kernelspec": {
   "display_name": "Python 3 (ipykernel)",
   "language": "python",
   "name": "python3"
  },
  "language_info": {
   "codemirror_mode": {
    "name": "ipython",
    "version": 3
   },
   "file_extension": ".py",
   "mimetype": "text/x-python",
   "name": "python",
   "nbconvert_exporter": "python",
   "pygments_lexer": "ipython3",
   "version": "3.11.4"
  }
 },
 "nbformat": 4,
 "nbformat_minor": 5
}
