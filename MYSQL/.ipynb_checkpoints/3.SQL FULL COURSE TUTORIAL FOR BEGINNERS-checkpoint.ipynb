{
 "cells": [
  {
   "cell_type": "markdown",
   "id": "ee331d59",
   "metadata": {},
   "source": [
    "### ENTITY RELATIONAL (ER) DIAGRAM (3:42:13)"
   ]
  },
  {
   "cell_type": "markdown",
   "id": "f9709811",
   "metadata": {},
   "source": [
    "Database Schema consists of all the different tables & different attributes/relationship that is on the table. \n",
    "\n",
    "ER Diagram is the middle man between the db storage requirements and the actual db schema thats going to be implemented in the DBMS. Its used in mapping out the various attributes, relationships, requirements needed into a db schema.\n",
    "\n",
    "ER Diagram is a diagram that consists of different shapes, symbols and texts all combined together to form a relationship model.\n"
   ]
  },
  {
   "cell_type": "markdown",
   "id": "07dab8e0",
   "metadata": {},
   "source": [
    "*Entity -* An object we want to model & store information about."
   ]
  },
  {
   "cell_type": "markdown",
   "id": "a2faf57f",
   "metadata": {},
   "source": [
    "![](pics/enti.png)"
   ]
  },
  {
   "cell_type": "markdown",
   "id": "afafc534",
   "metadata": {},
   "source": [
    "Attributes - Specific pieces of information about an entity."
   ]
  },
  {
   "cell_type": "markdown",
   "id": "abdd819b",
   "metadata": {},
   "source": [
    "![](pics/attr.png)"
   ]
  },
  {
   "cell_type": "markdown",
   "id": "a69cd40f",
   "metadata": {},
   "source": [
    "Primary Key - An attribute(s) that uniquely identify an entry in the database table. E.g student_id"
   ]
  },
  {
   "cell_type": "markdown",
   "id": "54354682",
   "metadata": {},
   "source": [
    "![](pics/pk.png)"
   ]
  },
  {
   "cell_type": "markdown",
   "id": "ad15014d",
   "metadata": {},
   "source": [
    "Composite Attribute - An attribute that can be broken up into sub-attributes. E.g Student broken into name."
   ]
  },
  {
   "cell_type": "markdown",
   "id": "30ebe6d2",
   "metadata": {},
   "source": [
    "![](pics/comattr.png)"
   ]
  },
  {
   "cell_type": "markdown",
   "id": "a1e267b6",
   "metadata": {},
   "source": [
    "Multi-Valued Attribute - An attribute that can have more than one value. E.g A student can have more than one club they belong to."
   ]
  },
  {
   "cell_type": "markdown",
   "id": "18d29e63",
   "metadata": {},
   "source": [
    "![](pics/mva.png)"
   ]
  },
  {
   "cell_type": "markdown",
   "id": "2629cb68",
   "metadata": {},
   "source": [
    "Derived attribute - An attribute that can be derived from the other attributes. E.g has_honors."
   ]
  },
  {
   "cell_type": "markdown",
   "id": "3034fcd8",
   "metadata": {},
   "source": [
    "![](pics/dea.png)"
   ]
  },
  {
   "cell_type": "markdown",
   "id": "3ba9c057",
   "metadata": {},
   "source": [
    "Multiple Entities - You can derive more than one entity in the diagram."
   ]
  },
  {
   "cell_type": "markdown",
   "id": "2984fbb6",
   "metadata": {},
   "source": [
    "![](pics/mule.png)"
   ]
  },
  {
   "cell_type": "markdown",
   "id": "a514e666",
   "metadata": {},
   "source": [
    "Relationshps - This defines a relationship between two entities.\n",
    "\n",
    "Total Participation - This refers to all memberes that must participate in the relationship.\n",
    "\n",
    "Double line denotes total participation.\n",
    "\n",
    "Single Line denotes partial participation."
   ]
  },
  {
   "cell_type": "markdown",
   "id": "5b57ceaa",
   "metadata": {},
   "source": [
    "![](pics/rela.png)"
   ]
  },
  {
   "cell_type": "markdown",
   "id": "20e94298",
   "metadata": {},
   "source": [
    "Relationship Attribute - An attribute about the relationship."
   ]
  },
  {
   "cell_type": "markdown",
   "id": "fdc28b65",
   "metadata": {},
   "source": [
    "![](pics/relaattr.png)"
   ]
  },
  {
   "cell_type": "markdown",
   "id": "f4e60ab2",
   "metadata": {},
   "source": [
    "Relationship Cardinality - The number of instances of an entity from a relation that can be associated with the relation."
   ]
  },
  {
   "cell_type": "markdown",
   "id": "4fb367d4",
   "metadata": {},
   "source": [
    "![](pics/relacar.png)"
   ]
  },
  {
   "cell_type": "markdown",
   "id": "b27aa88b",
   "metadata": {},
   "source": [
    "A weak entity always depends on another entitiy. It cannot be identified uniquely alone. E.g Exam; Exam cannot exist alone, it has to be associated to a class."
   ]
  },
  {
   "cell_type": "markdown",
   "id": "bd623012",
   "metadata": {},
   "source": [
    "![](pics/entirela.png)"
   ]
  },
  {
   "cell_type": "markdown",
   "id": "ea52904b",
   "metadata": {},
   "source": [
    "## DESIGNING AN ER DIAGRAM (3:55:52)"
   ]
  },
  {
   "cell_type": "markdown",
   "id": "bfd7a6b5",
   "metadata": {},
   "source": [
    "![](PICS/erdiag.png)"
   ]
  },
  {
   "cell_type": "markdown",
   "id": "dadc7d73",
   "metadata": {},
   "source": [
    "Take the above document, convert it into an ER Diagram and then convert it into a DB Schema. Below are the step by step procedures."
   ]
  },
  {
   "cell_type": "markdown",
   "id": "1c045a6e",
   "metadata": {},
   "source": [
    "![](pics/step1.png)"
   ]
  },
  {
   "cell_type": "markdown",
   "id": "a680c43d",
   "metadata": {},
   "source": [
    "![](pics/step2.png)"
   ]
  },
  {
   "cell_type": "markdown",
   "id": "4ad57cdc",
   "metadata": {},
   "source": [
    "![](pics/step3.png)"
   ]
  },
  {
   "cell_type": "markdown",
   "id": "ba4d2338",
   "metadata": {},
   "source": [
    "![](pics/step4.png)"
   ]
  },
  {
   "cell_type": "markdown",
   "id": "bc392132",
   "metadata": {},
   "source": [
    "![](pics/step5.png)"
   ]
  },
  {
   "cell_type": "markdown",
   "id": "ad617f2d",
   "metadata": {},
   "source": [
    "![](pics/step6.png)"
   ]
  },
  {
   "cell_type": "markdown",
   "id": "2341caa2",
   "metadata": {},
   "source": [
    "![](pics/step7.png)"
   ]
  },
  {
   "cell_type": "markdown",
   "id": "874ae2f4",
   "metadata": {},
   "source": [
    "![](pics/step8.png)"
   ]
  },
  {
   "cell_type": "markdown",
   "id": "39a726d5",
   "metadata": {},
   "source": [
    "![](pics/step9.png)"
   ]
  },
  {
   "cell_type": "markdown",
   "id": "77a2ebe0",
   "metadata": {},
   "source": [
    "![](pics/step10.png)"
   ]
  },
  {
   "cell_type": "markdown",
   "id": "b3e78f9c",
   "metadata": {},
   "source": [
    "## CONVERTING ENTITY RELATIONAL DIAGRAMS TO DATABASE SCHEMAS"
   ]
  },
  {
   "cell_type": "markdown",
   "id": "1c3e2fb1",
   "metadata": {},
   "source": [
    "![](pics/db1.png)"
   ]
  },
  {
   "cell_type": "markdown",
   "id": "5e21dcd8",
   "metadata": {},
   "source": [
    "![](pics/db2.png)"
   ]
  },
  {
   "cell_type": "markdown",
   "id": "ad7980f5",
   "metadata": {},
   "source": [
    "![](pics/db3.png)"
   ]
  },
  {
   "cell_type": "markdown",
   "id": "92953d52",
   "metadata": {},
   "source": [
    "![](pics/db4.png)"
   ]
  },
  {
   "cell_type": "markdown",
   "id": "0572937f",
   "metadata": {},
   "source": [
    "![](pics/db5.png)"
   ]
  },
  {
   "cell_type": "markdown",
   "id": "8e1f45f8",
   "metadata": {},
   "source": [
    "![](pics/db6.png)"
   ]
  },
  {
   "cell_type": "markdown",
   "id": "ef2218d5",
   "metadata": {},
   "source": [
    "![](pics/db7.png)"
   ]
  },
  {
   "cell_type": "markdown",
   "id": "46634a83",
   "metadata": {},
   "source": [
    "![](pics/db8.png)"
   ]
  },
  {
   "cell_type": "markdown",
   "id": "8e03e3a9",
   "metadata": {},
   "source": [
    "![](pics/db9.png)"
   ]
  },
  {
   "cell_type": "markdown",
   "id": "25e472f0",
   "metadata": {},
   "source": [
    "![](pics/db10.png)"
   ]
  },
  {
   "cell_type": "markdown",
   "id": "7217e0d9",
   "metadata": {},
   "source": [
    "MAPPING OUT ALL THE DIFFERENT REALTIONSHIPS BETWEEN TABLES"
   ]
  },
  {
   "cell_type": "markdown",
   "id": "6f8bb129",
   "metadata": {},
   "source": [
    "![](pics/db11.png)"
   ]
  },
  {
   "cell_type": "markdown",
   "id": "d018d9ec",
   "metadata": {},
   "source": [
    "Below is an example,of what the database must look like:"
   ]
  },
  {
   "cell_type": "markdown",
   "id": "99bbcf98",
   "metadata": {},
   "source": [
    "![](pics/db13.png)"
   ]
  },
  {
   "cell_type": "markdown",
   "id": "3c4eba10",
   "metadata": {},
   "source": [
    "![](pics/db14.png)"
   ]
  },
  {
   "cell_type": "markdown",
   "id": "7dd257d3",
   "metadata": {},
   "source": [
    "![](pics/db15.png)"
   ]
  }
 ],
 "metadata": {
  "kernelspec": {
   "display_name": "Python 3 (ipykernel)",
   "language": "python",
   "name": "python3"
  },
  "language_info": {
   "codemirror_mode": {
    "name": "ipython",
    "version": 3
   },
   "file_extension": ".py",
   "mimetype": "text/x-python",
   "name": "python",
   "nbconvert_exporter": "python",
   "pygments_lexer": "ipython3",
   "version": "3.11.4"
  }
 },
 "nbformat": 4,
 "nbformat_minor": 5
}
