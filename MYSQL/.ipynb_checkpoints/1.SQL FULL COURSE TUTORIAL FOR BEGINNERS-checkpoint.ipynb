{
 "cells": [
  {
   "cell_type": "markdown",
   "id": "27ef82bd",
   "metadata": {},
   "source": [
    "A database is a ny colection of related information e.g Phone Bok, Shopping list, Todo list, etc"
   ]
  },
  {
   "cell_type": "markdown",
   "id": "8dd57d56",
   "metadata": {},
   "source": [
    "Database (DB) can be stored in different ways. E.g On paper, In your mind, On a computer, This powerpoint, e.t.c\n",
    "Computer are great at keeping track of large amounts of information"
   ]
  },
  {
   "cell_type": "markdown",
   "id": "7922c403",
   "metadata": {},
   "source": [
    "### Database Managemanet Systems (DBMS)"
   ]
  },
  {
   "cell_type": "markdown",
   "id": "d45963aa",
   "metadata": {},
   "source": [
    "DBMS is  special software program that helps users create and maintain a database, thereby making it easy to do the following:\n",
    "1. To manage large amounts of information\n",
    "2. Handles Security\n",
    "3. Backups\n",
    "4. Importing/exporting data\n",
    "5. Concurrency\n",
    "6. Interacts with software applications like **Progamming Languages**"
   ]
  },
  {
   "cell_type": "markdown",
   "id": "f24a0aea",
   "metadata": {},
   "source": [
    "![](pics/dbms.png)"
   ]
  },
  {
   "cell_type": "markdown",
   "id": "5329ca14",
   "metadata": {},
   "source": [
    "# C.R.U.D \n",
    "Create Read Update Delete"
   ]
  },
  {
   "cell_type": "markdown",
   "id": "22efd937",
   "metadata": {},
   "source": [
    "## Two Types of Databases\n",
    "1. Relational Databases (SQL): Organize data into one or more tables:\n",
    "* Each table has columns and rows.\n",
    "* A unique key identifies each role.\n",
    "\n",
    "2. Non-Relational Databases (noSQL / not just SQL): Organize data is anything but a traditional table:\n",
    "* Key-value stores\n",
    "* Documents (JSON, XMK, etc)\n",
    "* Graphs\n",
    "* Flexible Tables"
   ]
  },
  {
   "cell_type": "markdown",
   "id": "75e1998d",
   "metadata": {},
   "source": [
    "### Relational Databases (SQL)\n",
    "Relational Database management Systems (RDBMS): It helpls the users create and maintain a relational database like mySQL, \n",
    "Oracle, postgreSQL, mariaDB, etc.\n",
    "\n",
    "Structured Query Language (SQL): I t performs the following operations:\n",
    "* Standardized language for interacting with RDBMS\n",
    "* Used to perform C.R.U.D operations, as well as other administrative tasks (user management, security, backup, etc).\n",
    "* Used to define tables and structures.\n",
    "* SQL code used on one RDBMS is not always portable to another without modification.\n"
   ]
  },
  {
   "cell_type": "markdown",
   "id": "861c8b6c",
   "metadata": {},
   "source": [
    "![](pics/nosql.png)"
   ]
  },
  {
   "cell_type": "markdown",
   "id": "49b1b79f",
   "metadata": {},
   "source": [
    "### Non-Relational Databases (noSQL / not just SQL)\n",
    "\n",
    "Non-Relational atabase Management Systems (NRDBMS): It helps users create and maintain a non-relational database. Exampls of noSQL are: mongoDB, dynamoDB, apache casssandra, firebase, etc.\n",
    "\n",
    "Implementation Specific\n",
    "Any non-relational database falls under this category, so there's no set language standard.\n",
    "Most NRDBMS will implement their own language for performing C.R.u.D and administrative operations on the database."
   ]
  },
  {
   "cell_type": "markdown",
   "id": "564e1c7d",
   "metadata": {},
   "source": [
    "### Database Queries\n",
    "\n",
    "Queries are requests made to the database management system for specific information.\n",
    "\n",
    "As the database structure becomes more and more complex, it becomes more difficult tp get the specific pieces of information we want."
   ]
  },
  {
   "cell_type": "markdown",
   "id": "51f314e6",
   "metadata": {},
   "source": [
    "![](pics/wrapup.png)"
   ]
  },
  {
   "cell_type": "markdown",
   "id": "9d5481cc",
   "metadata": {},
   "source": [
    "## Tables and keys"
   ]
  },
  {
   "cell_type": "markdown",
   "id": "bedfe163",
   "metadata": {},
   "source": [
    " ![](pics/studentTable.png)"
   ]
  },
  {
   "cell_type": "markdown",
   "id": "b063e6d8",
   "metadata": {},
   "source": [
    "The Primary key would always be unique for each row in a table. it can be a number or a str of text but it must be unique."
   ]
  },
  {
   "cell_type": "markdown",
   "id": "84ad5617",
   "metadata": {},
   "source": [
    "![](pics/email.png)"
   ]
  },
  {
   "cell_type": "markdown",
   "id": "42099bf5",
   "metadata": {},
   "source": [
    "![](pics/employee_id.png)"
   ]
  },
  {
   "cell_type": "markdown",
   "id": "0c915ac1",
   "metadata": {},
   "source": [
    "The emp_id is a surrogate key.  A surrogate key is a key that has not mapping to anything in the real word. Its just a type of primary key."
   ]
  },
  {
   "cell_type": "markdown",
   "id": "5cf1f307",
   "metadata": {},
   "source": [
    "![](pics/natural_key.png)"
   ]
  },
  {
   "cell_type": "markdown",
   "id": "bc4b9779",
   "metadata": {},
   "source": [
    "The emp_ssn is a natural key. SSN means Social Security Number. A natural key is a key that has a mapping to the real world."
   ]
  },
  {
   "cell_type": "markdown",
   "id": "59c6010c",
   "metadata": {},
   "source": [
    "![](foriegn.png)"
   ]
  },
  {
   "cell_type": "markdown",
   "id": "f83f52b7",
   "metadata": {},
   "source": [
    "![](pics/foriegn.png)"
   ]
  },
  {
   "cell_type": "markdown",
   "id": "e92e692c",
   "metadata": {},
   "source": [
    "A Foriegn key is an attribute we can store on a database table that would link us to another database table. Branch_id is a foriegn key.\n",
    "\n",
    "A foreign key stores the primary key of a row of in another database table. Its actually a primary key in another table.\n",
    "\n",
    "It helps us to link up and define our relationships between tables."
   ]
  },
  {
   "cell_type": "markdown",
   "id": "454a8acf",
   "metadata": {},
   "source": [
    "![](pics/branch.png)"
   ]
  },
  {
   "cell_type": "markdown",
   "id": "126a03c2",
   "metadata": {},
   "source": [
    "A table can have more than one foriegn key. In the fig below: branch_id and super_id are both foreign keys."
   ]
  },
  {
   "cell_type": "markdown",
   "id": "99cd9c57",
   "metadata": {},
   "source": [
    "![](pics/twokeys.png)"
   ]
  },
  {
   "cell_type": "markdown",
   "id": "76b16d41",
   "metadata": {},
   "source": [
    "Branch Supplier primary key consists of two columns. Its called a composite key and a composite key is a key that needs two atrribute, its made up of two columns. branch_id & supplier_name makes up the composite key. It has 2 primary keys."
   ]
  },
  {
   "cell_type": "markdown",
   "id": "9e65e6a9",
   "metadata": {},
   "source": [
    "![](pics/composite.png)"
   ]
  },
  {
   "cell_type": "markdown",
   "id": "f4d9b9ec",
   "metadata": {},
   "source": [
    "![](pics/works_with.png)"
   ]
  },
  {
   "cell_type": "markdown",
   "id": "7efef5b1",
   "metadata": {},
   "source": [
    " ![](pics/sql.png)"
   ]
  },
  {
   "cell_type": "markdown",
   "id": "6737bf18",
   "metadata": {},
   "source": [
    "SQL concepts are the same but the implementations are not the same."
   ]
  },
  {
   "cell_type": "markdown",
   "id": "63705385",
   "metadata": {},
   "source": [
    "![](pics/sql_types.png)"
   ]
  },
  {
   "cell_type": "markdown",
   "id": "0d97db35",
   "metadata": {},
   "source": [
    " ![](pics/queries.png)"
   ]
  },
  {
   "cell_type": "markdown",
   "id": "7f595e16",
   "metadata": {},
   "source": [
    "#### Different datatypes available in MYSQL"
   ]
  },
  {
   "cell_type": "markdown",
   "id": "212a17d8",
   "metadata": {},
   "source": [
    "INT                       -- Whole Numbers\n",
    "\n",
    "DECIMAL(M,N)              -- Exact Value - Decimal Numbers\n",
    "\n",
    "VARCHAR(100)              -- String of text length 100\n",
    "\n",
    "BLOB                      -- Binary Large Object, Stores large data\n",
    "\n",
    "DATE                      -- 'YYYY-MM-DD'\n",
    "\n",
    "TIMESTAMP                 -- 'YYYY-MM-DD HH:MM:SS' - userd for recording the time"
   ]
  },
  {
   "cell_type": "markdown",
   "id": "4afed3a0",
   "metadata": {},
   "source": [
    "SQL is not case sensitive i.e use can write with uppercase or lowercase but writing with uppercase is standard. Every command you write must end with a semi-colon\n"
   ]
  },
  {
   "cell_type": "markdown",
   "id": "bd6a2882",
   "metadata": {},
   "source": [
    "![](pics/student_table.png)"
   ]
  },
  {
   "cell_type": "code",
   "execution_count": null,
   "id": "bae04168",
   "metadata": {},
   "outputs": [],
   "source": [
    "#to create the above table\n",
    "CREATE TABLE student (\n",
    "    student_id INT PRIMARY KEY,\n",
    "    name VARCHAR(20),\n",
    "    major VARCHAR(20)\n",
    ");\n",
    "\n",
    "#click run in popsql to create the table\n"
   ]
  },
  {
   "cell_type": "code",
   "execution_count": null,
   "id": "cbca28d0",
   "metadata": {},
   "outputs": [],
   "source": [
    "# you can also write it this way\n",
    "CREATE TABLE student (\n",
    "    student_id INT,\n",
    "    name VARCHAR(20),\n",
    "    major VARCHAR(20),\n",
    "    PRIMARY KEY(student_id)\n",
    ");\n"
   ]
  },
  {
   "cell_type": "code",
   "execution_count": null,
   "id": "53d26f1d",
   "metadata": {},
   "outputs": [],
   "source": [
    "# you can also write it this way\n",
    "CREATE TABLE student (\n",
    "    student_id INT,\n",
    "    name VARCHAR(20),\n",
    "    major VARCHAR(20),\n",
    "    PRIMARY KEY(student_id)\n",
    ");\n",
    "\n",
    "DESCRIBE student; # click run in popsql to veiw table description"
   ]
  },
  {
   "cell_type": "code",
   "execution_count": null,
   "id": "65105b5f",
   "metadata": {},
   "outputs": [],
   "source": [
    "# To delete a table\n",
    "CREATE TABLE student (\n",
    "    student_id INT,\n",
    "    name VARCHAR(20),\n",
    "    major VARCHAR(20),\n",
    "    PRIMARY KEY(student_id)\n",
    ");\n",
    "\n",
    "DESCRIBE student; # click run in popsql to veiw table description\n",
    "\n",
    "DROP TABLE student; # click run to delete table"
   ]
  },
  {
   "cell_type": "code",
   "execution_count": null,
   "id": "55c54965",
   "metadata": {},
   "outputs": [],
   "source": [
    "# To modify a table\n",
    "CREATE TABLE student (\n",
    "    student_id INT,\n",
    "    name VARCHAR(20),\n",
    "    major VARCHAR(20),\n",
    "    PRIMARY KEY(student_id)\n",
    ");\n",
    "\n",
    "DESCRIBE student; # click run in popsql to veiw table description\n",
    "\n",
    "DROP TABLE student; # click run to delete table\n",
    "\n",
    "ALTER TABLE student AA gpa DECIMAL(3, 2); # click run to modify student table"
   ]
  },
  {
   "cell_type": "code",
   "execution_count": null,
   "id": "49f50454",
   "metadata": {},
   "outputs": [],
   "source": [
    "# To drop a specific column\n",
    "CREATE TABLE student (\n",
    "    student_id INT,\n",
    "    name VARCHAR(20),\n",
    "    major VARCHAR(20),\n",
    "    PRIMARY KEY(student_id)\n",
    ");\n",
    "\n",
    "DESCRIBE student; # click run in popsql to veiw table description\n",
    "\n",
    "DROP TABLE student; # click run to delete table\n",
    "\n",
    "ALTER TABLE student AA gpa DECIMAL(3, 2); # click run to modify student table\n",
    "ALTER TABLE student DROP COLUMN gpa; # click run in popsql to drop gpa colukn in student table"
   ]
  },
  {
   "cell_type": "code",
   "execution_count": null,
   "id": "bc74d143",
   "metadata": {},
   "outputs": [],
   "source": [
    "# To insert value in the student table\n",
    "CREATE TABLE student (\n",
    "    student_id INT,\n",
    "    name VARCHAR(20),\n",
    "    major VARCHAR(20),\n",
    "    PRIMARY KEY(student_id)\n",
    ");\n",
    "\n",
    "INSERT INTO student VALUES(1, 'Jack', 'Biology'); # click run to insert the added value"
   ]
  },
  {
   "cell_type": "code",
   "execution_count": null,
   "id": "25f2efa4",
   "metadata": {},
   "outputs": [],
   "source": [
    "# To view inserted value in the student table\n",
    "CREATE TABLE student (\n",
    "    student_id INT,\n",
    "    name VARCHAR(20),\n",
    "    major VARCHAR(20),\n",
    "    PRIMARY KEY(student_id)\n",
    ");\n",
    "SELECT * FROM student; # grabs all the information from the student table\n",
    "\n",
    "INSERT INTO student VALUES(1, 'Jack', 'Biology'); # click run to view the added value"
   ]
  },
  {
   "cell_type": "code",
   "execution_count": null,
   "id": "f49e9ce9",
   "metadata": {},
   "outputs": [],
   "source": [
    "CREATE TABLE student (\n",
    "    student_id INT,\n",
    "    name VARCHAR(20),\n",
    "    major VARCHAR(20),\n",
    "    PRIMARY KEY(student_id)\n",
    ");\n",
    "SELECT * FROM student; # grabs all the information from the student table\n",
    "\n",
    "INSERT INTO student VALUES(2, 'Kate', 'Sociology'); # click run to view the added value"
   ]
  },
  {
   "cell_type": "code",
   "execution_count": null,
   "id": "4d23e806",
   "metadata": {},
   "outputs": [],
   "source": [
    "CREATE TABLE student (\n",
    "    student_id INT,\n",
    "    name VARCHAR(20),\n",
    "    major VARCHAR(20),\n",
    "    PRIMARY KEY(student_id)\n",
    ");\n",
    "SELECT * FROM student; # grabs all the information from the student table\n",
    "\n",
    "INSERT INTO student(student_id, name) VALUES(3, 'Claire'); # manually manupulate the inserted row to desired result\n",
    "# Null would automatically be inserted to major cos no value was given to it."
   ]
  },
  {
   "cell_type": "markdown",
   "id": "400f2e9e",
   "metadata": {},
   "source": [
    "A table cannot have dupicate primary key but can have the same name or major."
   ]
  },
  {
   "cell_type": "code",
   "execution_count": null,
   "id": "e49cbdbb",
   "metadata": {},
   "outputs": [],
   "source": [
    "CREATE TABLE student (\n",
    "    student_id INT,\n",
    "    name VARCHAR(20),\n",
    "    major VARCHAR(20),\n",
    "    PRIMARY KEY(student_id)\n",
    ");\n",
    "SELECT * FROM student; # grabs all the information from the student table\n",
    "\n",
    "INSERT INTO student(student_id, name) VALUES(4, 'Claire'); # manually manupulate the inserted row to desired result\n",
    "# click run to view the added value"
   ]
  },
  {
   "cell_type": "code",
   "execution_count": null,
   "id": "ef5e8f72",
   "metadata": {},
   "outputs": [],
   "source": [
    "CREATE TABLE student (\n",
    "    student_id INT,\n",
    "    name VARCHAR(20),\n",
    "    major VARCHAR(20),\n",
    "    PRIMARY KEY(student_id)\n",
    ");\n",
    "SELECT * FROM student; # grabs all the information from the student table\n",
    "\n",
    "INSERT INTO student VALUES(1, 'Jack', 'Biology');\n",
    "INSERT INTO student VALUES(2, 'Kate', 'Sociology'); \n",
    "INSERT INTO student(student_id, name) VALUES(3, 'Claire'); # manually manupulate the inserted row to desired result\n",
    "INSERT INTO student VALUES(4, 'Jack', 'Biology');\n",
    "INSERT INTO student VALUES(5, 'Mike', 'Computer Science');"
   ]
  },
  {
   "cell_type": "markdown",
   "id": "09a4bab1",
   "metadata": {},
   "source": [
    "![](pics/collec.png)"
   ]
  },
  {
   "cell_type": "markdown",
   "id": "b5311a00",
   "metadata": {},
   "source": [
    "Null means a coumn does not have a value.\n",
    "\n",
    "NOT NULL allow us define that a particular column in the table cannot be NULL.\n",
    "\n",
    "UNIQUE makes each value in the row not to be repeated or duplicated.\n",
    "\n",
    "A Primary Key is an attribute or column on a table that is both NOT NULL and UNIQUE."
   ]
  },
  {
   "cell_type": "code",
   "execution_count": null,
   "id": "82624330",
   "metadata": {},
   "outputs": [],
   "source": [
    "CREATE TABLE student (\n",
    "    student_id INT,\n",
    "    #NOT NULL makes a particular column in the table\n",
    "    #not to be null\n",
    "    name VARCHAR(20) NOT NULL, \n",
    "    major VARCHAR(20) UNIQUE,\n",
    "    PRIMARY KEY(student_id)\n",
    ");\n",
    "SELECT * FROM student; # grabs all the information from the student table\n",
    "\n",
    "INSERT INTO student VALUES(1, 'Jack', 'Biology');\n",
    "INSERT INTO student VALUES(2, 'Kate', 'Sociology'); \n",
    "INSERT INTO student VALUES(3, NULL, 'Chemistry');\n",
    "INSERT INTO student VALUES(4, 'Jack', 'Biology');\n",
    "INSERT INTO student VALUES(5, 'Mike', 'Computer Science');"
   ]
  },
  {
   "cell_type": "code",
   "execution_count": null,
   "id": "6fbaf280",
   "metadata": {},
   "outputs": [],
   "source": [
    "DROP TABLE Student; # delete table\n",
    "\n",
    "CREATE TABLE student (\n",
    "    student_id INT,\n",
    "    #NOT NULL makes a particular column in the table\n",
    "    #not to be null\n",
    "    name VARCHAR(20), \n",
    "    major VARCHAR(20) DEFAULT 'undecided',\n",
    "    PRIMARY KEY(student_id)\n",
    ");\n",
    "SELECT * FROM student; # grabs all the information from the student table\n",
    "\n",
    "INSERT INTO student(student_id, name) VALUES(1, 'Jack');\n",
    "INSERT INTO student VALUES(2, 'Kate', 'Sociology'); \n",
    "INSERT INTO student VALUES(3, NULL, 'Chemistry');\n",
    "INSERT INTO student VALUES(4, 'Jack', 'Biology');\n",
    "INSERT INTO student VALUES(5, 'Mike', 'Computer Science');"
   ]
  },
  {
   "cell_type": "code",
   "execution_count": null,
   "id": "8e19a41e",
   "metadata": {},
   "outputs": [],
   "source": [
    "DROP TABLE Student; # delete table\n",
    "\n",
    "CREATE TABLE student (\n",
    "    student_id INT AUTO_INCREMENT, #automatic increment of ID\n",
    "    #NOT NULL makes a particular column in the table\n",
    "    #not to be null\n",
    "    name VARCHAR(20), \n",
    "    major VARCHAR(20) DEFAULT 'undecided',\n",
    "    PRIMARY KEY(student_id)\n",
    ");\n",
    "SELECT * FROM student; # grabs all the information from the student table\n",
    "\n",
    "INSERT INTO student(name, major) VALUES('Jack', 'Biology');\n",
    "INSERT INTO student(name, major) VALUES('Kate', 'Sociology');\n"
   ]
  },
  {
   "cell_type": "markdown",
   "id": "fcd46d06",
   "metadata": {},
   "source": [
    "#### UPDATE and DELETE ROWS"
   ]
  },
  {
   "cell_type": "markdown",
   "id": "1d3bc2ad",
   "metadata": {},
   "source": [
    "#### Updating Rows or Column"
   ]
  },
  {
   "cell_type": "markdown",
   "id": "48af7c48",
   "metadata": {},
   "source": [
    "![](pics/update.png)"
   ]
  },
  {
   "cell_type": "code",
   "execution_count": null,
   "id": "620d9906",
   "metadata": {},
   "outputs": [],
   "source": [
    "SELECT * FROM student; # grabs all the information from the student table\n",
    "\n",
    "UPDATE student\n",
    "SET major = 'Bio'\n",
    "WHERE major = 'Biology';"
   ]
  },
  {
   "cell_type": "code",
   "execution_count": null,
   "id": "44100530",
   "metadata": {},
   "outputs": [],
   "source": [
    "SELECT * FROM student; # grabs all the information from the student table\n",
    "\n",
    "UPDATE student\n",
    "SET major = 'Comp Sci'\n",
    "WHERE major = 'Computer Science';"
   ]
  },
  {
   "cell_type": "code",
   "execution_count": null,
   "id": "7795e67d",
   "metadata": {},
   "outputs": [],
   "source": [
    "SELECT * FROM student; # grabs all the information from the student table\n",
    "\n",
    "UPDATE student\n",
    "SET major = 'Comp Sci'\n",
    "WHERE student_id = 4;"
   ]
  },
  {
   "cell_type": "markdown",
   "id": "c7050558",
   "metadata": {},
   "source": [
    "![](pics/four.png)"
   ]
  },
  {
   "cell_type": "code",
   "execution_count": null,
   "id": "095bcc21",
   "metadata": {},
   "outputs": [],
   "source": [
    "SELECT * FROM student; # grabs all the information from the student table\n",
    "\n",
    "UPDATE student\n",
    "SET major = 'Biochemistry'\n",
    "WHERE major = 'Bio' OR major = 'Chemistry';"
   ]
  },
  {
   "cell_type": "code",
   "execution_count": null,
   "id": "e8ece5e2",
   "metadata": {},
   "outputs": [],
   "source": [
    "SELECT * FROM student; # grabs all the information from the student table\n",
    "\n",
    "UPDATE student\n",
    "SET name = 'Tom', major = 'undecided'\n",
    "WHERE student_id = 1;"
   ]
  },
  {
   "cell_type": "code",
   "execution_count": null,
   "id": "fc679fd8",
   "metadata": {},
   "outputs": [],
   "source": [
    "SELECT * FROM student; # grabs all the information from the student table\n",
    "\n",
    "UPDATE student\n",
    "SET major = 'undecided';\n"
   ]
  },
  {
   "cell_type": "markdown",
   "id": "44d8ba7f",
   "metadata": {},
   "source": [
    "#### Deleting Rows or Column"
   ]
  },
  {
   "cell_type": "code",
   "execution_count": null,
   "id": "bf22bfc0",
   "metadata": {},
   "outputs": [],
   "source": [
    "SELECT * FROM student; # grabs all the information from the student table\n",
    "\n",
    "DELETE FROM student\n",
    "WHERE student_id = 5;\n"
   ]
  },
  {
   "cell_type": "code",
   "execution_count": null,
   "id": "404161fa",
   "metadata": {},
   "outputs": [],
   "source": [
    "SELECT * FROM student; # grabs all the information from the student table\n",
    "\n",
    "DELETE FROM student\n",
    "WHERE name = 'Tom' AND major = 'undecided';\n"
   ]
  },
  {
   "cell_type": "code",
   "execution_count": null,
   "id": "cd705fe1",
   "metadata": {},
   "outputs": [],
   "source": [
    "SELECT * FROM student; # grabs all the information from the student table\n",
    "\n",
    "DELETE FROM student; # delete the entire table\n"
   ]
  },
  {
   "cell_type": "markdown",
   "id": "4914934d",
   "metadata": {},
   "source": [
    "#### BASIC QUERIES\n",
    "(*) means grab all"
   ]
  },
  {
   "cell_type": "code",
   "execution_count": null,
   "id": "a0da3bdc",
   "metadata": {},
   "outputs": [],
   "source": [
    "SELECT * \n",
    "FROM student; # grabs all the information from the student table\n"
   ]
  },
  {
   "cell_type": "code",
   "execution_count": null,
   "id": "2ebec0ed",
   "metadata": {},
   "outputs": [],
   "source": [
    "SELECT name\n",
    "FROM student; # grabs all the names from the student table"
   ]
  },
  {
   "cell_type": "code",
   "execution_count": null,
   "id": "63ff7e2b",
   "metadata": {},
   "outputs": [],
   "source": [
    "SELECT name, major\n",
    "FROM student; # grabs all the names and major from the student table\n"
   ]
  },
  {
   "cell_type": "code",
   "execution_count": null,
   "id": "dfb6cad0",
   "metadata": {},
   "outputs": [],
   "source": [
    "SELECT student.name, student.major\n",
    "FROM student; # grabs all the names and major from the student table\n"
   ]
  },
  {
   "cell_type": "code",
   "execution_count": null,
   "id": "2fec979a",
   "metadata": {},
   "outputs": [],
   "source": [
    "SELECT student.name, student.major\n",
    "FROM student # grabs all the names and major from the student table\n",
    "ORDER BY name; # sort in alphabetical order ascending"
   ]
  },
  {
   "cell_type": "code",
   "execution_count": null,
   "id": "646f306a",
   "metadata": {},
   "outputs": [],
   "source": [
    "SELECT student.name, student.major\n",
    "FROM student # grabs all the names and major from the student table\n",
    "ORDER BY name DESC; # sort in alphabetical order descending"
   ]
  },
  {
   "cell_type": "code",
   "execution_count": null,
   "id": "122296a6",
   "metadata": {},
   "outputs": [],
   "source": [
    "SELECT *\n",
    "FROM student # grabs all the names and major from the student table\n",
    "ORDER BY student_id DESC; # sort in alphabetical order descending"
   ]
  },
  {
   "cell_type": "code",
   "execution_count": null,
   "id": "de75b41e",
   "metadata": {},
   "outputs": [],
   "source": [
    "SELECT *\n",
    "FROM student # grabs all the names and major from the student table\n",
    "ORDER BY student_id ASC; # sort in alphabetical order ascending"
   ]
  },
  {
   "cell_type": "code",
   "execution_count": null,
   "id": "c081e135",
   "metadata": {},
   "outputs": [],
   "source": [
    "SELECT *\n",
    "FROM student \n",
    "ORDER BY major, student_id; #automatically ascending"
   ]
  },
  {
   "cell_type": "code",
   "execution_count": null,
   "id": "60d5c5b0",
   "metadata": {},
   "outputs": [],
   "source": [
    "SELECT *\n",
    "FROM student \n",
    "ORDER BY major, student_id DESC; #automatically descending"
   ]
  },
  {
   "cell_type": "code",
   "execution_count": null,
   "id": "fb0ba50e",
   "metadata": {},
   "outputs": [],
   "source": [
    "SELECT *\n",
    "FROM student \n",
    "LIMIT 2;  #limit the result of the table rows shown to 2"
   ]
  },
  {
   "cell_type": "code",
   "execution_count": null,
   "id": "9e38906f",
   "metadata": {},
   "outputs": [],
   "source": [
    "SELECT *\n",
    "FROM student \n",
    "ORDER BY student_id DESC; #automatically descending\n",
    "LIMIT 2;  #limit the result of the table rows shown to 2"
   ]
  },
  {
   "cell_type": "markdown",
   "id": "8629e197",
   "metadata": {},
   "source": [
    "#### Filtering Table"
   ]
  },
  {
   "cell_type": "code",
   "execution_count": null,
   "id": "21131b7e",
   "metadata": {},
   "outputs": [],
   "source": [
    "SELECT *\n",
    "FROM student \n",
    "WHERE major = 'Chemistry';"
   ]
  },
  {
   "cell_type": "code",
   "execution_count": null,
   "id": "a2040789",
   "metadata": {},
   "outputs": [],
   "source": [
    "SELECT name, major\n",
    "FROM student \n",
    "WHERE major = 'Chemistry' OR major = 'Biology';"
   ]
  },
  {
   "cell_type": "code",
   "execution_count": null,
   "id": "e41c35b5",
   "metadata": {},
   "outputs": [],
   "source": [
    "SELECT name, major\n",
    "FROM student \n",
    "WHERE major = 'Chemistry' OR name = 'Kate';"
   ]
  },
  {
   "cell_type": "code",
   "execution_count": null,
   "id": "f6bebbfe",
   "metadata": {},
   "outputs": [],
   "source": [
    "SELECT name, major\n",
    "FROM student \n",
    "WHERE major = 'Chemistry';"
   ]
  },
  {
   "cell_type": "markdown",
   "id": "01c386b4",
   "metadata": {},
   "source": [
    "#### Comparision Operators\n",
    "-- Comments\n",
    "\n",
    "<  Less Than\n",
    "\n",
    "'>'  Greater Than\n",
    "\n",
    "<= Less Than Equal to\n",
    "\n",
    "'>=' Right Than Equal to\n",
    "\n",
    "=  Equal to\n",
    "\n",
    "<> Not Equal to\n",
    "\n",
    "AND\n",
    "\n",
    "OR"
   ]
  },
  {
   "cell_type": "code",
   "execution_count": null,
   "id": "8e4273e0",
   "metadata": {},
   "outputs": [],
   "source": [
    "SELECT name, major\n",
    "FROM student \n",
    "WHERE major <> 'Chemistry';"
   ]
  },
  {
   "cell_type": "code",
   "execution_count": null,
   "id": "51ee81b7",
   "metadata": {},
   "outputs": [],
   "source": [
    "SELECT name, major\n",
    "FROM student \n",
    "WHERE student_id <3 ;"
   ]
  },
  {
   "cell_type": "code",
   "execution_count": null,
   "id": "e92b52b7",
   "metadata": {},
   "outputs": [],
   "source": [
    "SELECT *\n",
    "FROM student \n",
    "WHERE student_id <3 AND name <> 'Jack';"
   ]
  },
  {
   "cell_type": "code",
   "execution_count": null,
   "id": "a78a8690",
   "metadata": {},
   "outputs": [],
   "source": [
    "SELECT *\n",
    "FROM student \n",
    "WHERE name IN (\"Claire\", \"Kate\", \"Mike\");"
   ]
  },
  {
   "cell_type": "code",
   "execution_count": null,
   "id": "8be46a20",
   "metadata": {},
   "outputs": [],
   "source": [
    "SELECT *\n",
    "FROM student \n",
    "WHERE major IN (\"Biology\", \"Chemistry\");"
   ]
  },
  {
   "cell_type": "code",
   "execution_count": null,
   "id": "2d42b674",
   "metadata": {},
   "outputs": [],
   "source": [
    "SELECT *\n",
    "FROM student \n",
    "WHERE major IN (\"Biology\", \"Chemistry\") AND student_id > 2;"
   ]
  },
  {
   "cell_type": "markdown",
   "id": "4f75281d",
   "metadata": {},
   "source": [
    "### Company Database Intro"
   ]
  },
  {
   "cell_type": "markdown",
   "id": "ec88ec9f",
   "metadata": {},
   "source": [
    "![](pics/stuinfo.png)"
   ]
  },
  {
   "cell_type": "markdown",
   "id": "515120b5",
   "metadata": {},
   "source": [
    "![](pics/schema.png)"
   ]
  },
  {
   "cell_type": "code",
   "execution_count": null,
   "id": "9719c7d5",
   "metadata": {},
   "outputs": [],
   "source": [
    "DROP TABLE student;"
   ]
  },
  {
   "cell_type": "code",
   "execution_count": null,
   "id": "18d7bb0d",
   "metadata": {},
   "outputs": [],
   "source": [
    "#create employee table\n",
    "CREATE TABLE employee (\n",
    "    emp_id INT PRIMARY KEY,\n",
    "    first_name VARCHAR(40),\n",
    "    last_name VARCHAR(40),\n",
    "    birth_day DATE,\n",
    "    sex VARCHAR(1),\n",
    "    salary INT,\n",
    "    super_id INT,\n",
    "    branch_id INT\n",
    "); # run in popsql"
   ]
  },
  {
   "cell_type": "code",
   "execution_count": null,
   "id": "af3b9c5a",
   "metadata": {},
   "outputs": [],
   "source": [
    "#create branch table\n",
    "CREATE TABLE branch (\n",
    "    branch_id INT PRIMARY KEY,\n",
    "    branch_name VARCHAR(40),\n",
    "    mgr_id INT,\n",
    "    mgr_start_date DATE,\n",
    "    FOREIGN KEY(mgr_id) REFERENCFES employee(emp_id) ON DELETE SET NULL\n",
    "); # run in popsql"
   ]
  },
  {
   "cell_type": "code",
   "execution_count": null,
   "id": "66279dae",
   "metadata": {},
   "outputs": [],
   "source": [
    "# add branch_id as foreign key in employee table\n",
    "ALTER TABLE employee\n",
    "ADD FOREIGN KEY(branch_id)\n",
    "REFERENCES branch(branch_id)\n",
    "ON DELETE SET NULL; # run in popsql\n",
    "\n",
    "# add super_id as foreign key in employee table\n",
    "ALTER TABLE employee\n",
    "ADD FOREIGN KEY(super_id)\n",
    "REFERENCES employee(emp_id)\n",
    "ON DELETE SET NULL; # run in popsql"
   ]
  },
  {
   "cell_type": "code",
   "execution_count": null,
   "id": "c71a4c28",
   "metadata": {},
   "outputs": [],
   "source": [
    "#create client table\n",
    "CREATE TABLE client (\n",
    "    client_id INT PRIMARY KEY,\n",
    "    client_name VARCHAR(40),\n",
    "    branch_id INT,\n",
    "    FOREIGN KEY(branch_id) REFERENCES branch(branch_id) ON DELETE SET NULL\n",
    "); # run in popsql"
   ]
  },
  {
   "cell_type": "code",
   "execution_count": null,
   "id": "6109f618",
   "metadata": {},
   "outputs": [],
   "source": [
    "#create works_with table\n",
    "CREATE TABLE works_with (\n",
    "    emp_id INT,\n",
    "    client_id INT,\n",
    "    total_sales INT,\n",
    "    PRIMARY KEY(emp_id, client_id),\n",
    "    FOREIGN KEY(emp_id) REFERENCES employee(emp_id) ON DELETE CASCADE,\n",
    "    FOREIGN KEY(client_id) REFERENCES client(client_id) ON DELETE CASCADE\n",
    "); # run in popsql"
   ]
  },
  {
   "cell_type": "code",
   "execution_count": null,
   "id": "e14a9236",
   "metadata": {},
   "outputs": [],
   "source": [
    "#create Branch_Supplier table\n",
    "CREATE TABLE branch_supplier (\n",
    "    branch_id INT,\n",
    "    supplier_name VARCHAR(40),\n",
    "    supply_type VARCHAR(40),\n",
    "    PRIMARY KEY(branch_id, supplier_name),\n",
    "    FOREIGN KEY(branch_id) REFERENCES branch(branch_id) ON DELETE CASCADE\n",
    "); # run in popsql"
   ]
  },
  {
   "cell_type": "code",
   "execution_count": null,
   "id": "e7bca870",
   "metadata": {},
   "outputs": [],
   "source": [
    "# Insert information into tables\n",
    "--Corporate Branch\n",
    "\n",
    "INSERT INTO employee VALUES(100, \"David\", \"Wallace\", \"1967-11-17\", \"M\", 250000, NULL, NULL);\n",
    "\n",
    "INSERT INTO branch VALUES(1, \"Corporate\", 100, \"2006-02-09\");\n",
    "\n",
    "UPDATE employee\n",
    "SET branch_id = 1\n",
    "WHERE emp_id = 100;\n",
    "\n",
    "INSERT INTO employee VALUES(101, 'Jan', 'Levinson', '1961-05-11', 'F', 110000, 100, 1); # run in popsql"
   ]
  },
  {
   "cell_type": "code",
   "execution_count": null,
   "id": "e91fc4c9",
   "metadata": {},
   "outputs": [],
   "source": [
    "# Insert information into tables\n",
    "--Scranton Branch\n",
    "\n",
    "INSERT INTO employee VALUES(102, \"Michael\", \"Scott\", \"1964-03-15\", \"M\", 75000, NULL, NULL);\n",
    "\n",
    "INSERT INTO branch VALUES(2, \"Sranton\", 102, \"1992-04-06\");\n",
    "\n",
    "UPDATE employee\n",
    "SET branch_id = 2\n",
    "WHERE emp_id = 102;\n",
    "\n",
    "INSERT INTO employee VALUES(103, 'Angela', 'Martin', '1971-06-25', 'F', 63000, 102, 2); # run in popsql\n",
    "INSERT INTO employee VALUES(104, 'Kelly', 'Kapoor', '1980-02-05', 'F', 55000, 102, 2);\n",
    "INSERT INTO employee VALUES(105, 'Stanley', 'Hudson', '1958-02-19', 'M', 69000, 102, 2);"
   ]
  },
  {
   "cell_type": "code",
   "execution_count": null,
   "id": "d9ecf6d9",
   "metadata": {},
   "outputs": [],
   "source": [
    "# Insert information into tables\n",
    "--Stamford Branch\n",
    "\n",
    "INSERT INTO employee VALUES(106, \"Josh\", \"Porter\", \"1969-09-05\", \"M\", 78000, NULL, NULL);\n",
    "\n",
    "INSERT INTO branch VALUES(3, \"Stamford\", 106, \"1998-02-13\");\n",
    "\n",
    "UPDATE employee\n",
    "SET branch_id = 3\n",
    "WHERE emp_id = 106;\n",
    "\n",
    "INSERT INTO employee VALUES(107, 'Andy', 'Bernard', '1973-07-22', 'M', 65000, 106, 3); \n",
    "INSERT INTO employee VALUES(108, 'Jim', 'Halpert', '1970-10-01', 'M', 71000, 106, 3); # run in popsql"
   ]
  },
  {
   "cell_type": "code",
   "execution_count": null,
   "id": "8605b3ce",
   "metadata": {},
   "outputs": [],
   "source": [
    "# Insert information into tables\n",
    "--Branch Supplier\n",
    "\n",
    "INSERT INTO branch_supplier VALUES(2, \"Hammer Mill\", \"Paper\"); \n",
    "INSERT INTO branch_supplier VALUES(2, \"Uni-ball\", \"Writing Utensils\"); \n",
    "INSERT INTO branch_supplier VALUES(3, \"Patriot Paper\", \"Paper\"); \n",
    "INSERT INTO branch_supplier VALUES(2, \"J.T. Forms & Labels\", \"Custom Forms\"); \n",
    "INSERT INTO branch_supplier VALUES(3, \"Uni-ball\", \"Writing Utensils\"); \n",
    "INSERT INTO branch_supplier VALUES(3, \"Hammer Mill\", \"Paper\"); \n",
    "INSERT INTO branch_supplier VALUES(3, \"Stamford Labels\", \"Custom Forms\"); # run in popsql"
   ]
  },
  {
   "cell_type": "code",
   "execution_count": null,
   "id": "d5ca48ca",
   "metadata": {},
   "outputs": [],
   "source": [
    "# Insert information into tables\n",
    "--CLIENT TABLE\n",
    "\n",
    "INSERT INTO client VALUES(400, \"Dunmore Highschool\", 2); \n",
    "INSERT INTO client VALUES(401, \"Lackawana Country\", 2); \n",
    "INSERT INTO client VALUES(402, \"FedEx\", 3); \n",
    "INSERT INTO client VALUES(403, \"John Daly Law, LLC\", 3); \n",
    "INSERT INTO client VALUES(404, \"Scranton WhitePages\", 2); \n",
    "INSERT INTO client VALUES(405, \"Times Newspaper\", 3); \n",
    "INSERT INTO client VALUES(406, \"FedEx\", 2); # run in popsql"
   ]
  },
  {
   "cell_type": "code",
   "execution_count": null,
   "id": "91dc4490",
   "metadata": {},
   "outputs": [],
   "source": [
    "# Insert information into tables\n",
    "--WORKS_WITH\n",
    "\n",
    "INSERT INTO works_with VALUES(105, 400, 55000); \n",
    "INSERT INTO works_with VALUES(102, 401, 267000); \n",
    "INSERT INTO works_with VALUES(108, 402, 22500); \n",
    "INSERT INTO works_with VALUES(107, 403, 5000); \n",
    "INSERT INTO works_with VALUES(108, 403, 12000); \n",
    "INSERT INTO works_with VALUES(105, 404, 33000); \n",
    "INSERT INTO works_with VALUES(107, 405, 26000); \n",
    "INSERT INTO works_with VALUES(102, 406, 15000); \n",
    "INSERT INTO works_with VALUES(105, 406, 130000); # run in popsql"
   ]
  },
  {
   "cell_type": "code",
   "execution_count": null,
   "id": "5406de5c",
   "metadata": {},
   "outputs": [],
   "source": [
    "# To check out the diferent table created\n",
    "select * employee;"
   ]
  },
  {
   "cell_type": "code",
   "execution_count": null,
   "id": "76dbc8e4",
   "metadata": {},
   "outputs": [],
   "source": [
    "# To check out the diferent table created\n",
    "select * works_with;"
   ]
  },
  {
   "cell_type": "code",
   "execution_count": null,
   "id": "9916f3ff",
   "metadata": {},
   "outputs": [],
   "source": [
    "# To check out the diferent table created\n",
    "SELECT * branch_supplier;"
   ]
  },
  {
   "cell_type": "markdown",
   "id": "02005837",
   "metadata": {},
   "source": [
    "## More Basic Queries"
   ]
  },
  {
   "cell_type": "code",
   "execution_count": null,
   "id": "c7228e72",
   "metadata": {},
   "outputs": [],
   "source": [
    "-- Find all employees\n",
    "SELECT * \n",
    "FROM employee;"
   ]
  },
  {
   "cell_type": "code",
   "execution_count": null,
   "id": "159e8e45",
   "metadata": {},
   "outputs": [],
   "source": [
    "-- Find all clients\n",
    "SELECT * \n",
    "FROM client;"
   ]
  },
  {
   "cell_type": "code",
   "execution_count": null,
   "id": "5a639ab9",
   "metadata": {},
   "outputs": [],
   "source": [
    "-- Find all employes ordered by salary\n",
    "SELECT * \n",
    "FROM employee\n",
    "ORDER BY salary;"
   ]
  },
  {
   "cell_type": "code",
   "execution_count": null,
   "id": "3de85fd5",
   "metadata": {},
   "outputs": [],
   "source": [
    "-- Find all employes ordered by salary\n",
    "SELECT * \n",
    "FROM employee\n",
    "ORDER BY salary DESC;"
   ]
  },
  {
   "cell_type": "code",
   "execution_count": null,
   "id": "3fcc2197",
   "metadata": {},
   "outputs": [],
   "source": [
    "-- Find all employees ordered by sex then name\n",
    "SELECT * \n",
    "FROM employee\n",
    "ORDER BY sex, first_name, last_name;"
   ]
  },
  {
   "cell_type": "code",
   "execution_count": null,
   "id": "ac15687c",
   "metadata": {},
   "outputs": [],
   "source": [
    "-- Find the first 5 employees in the table\n",
    "SELECT * \n",
    "FROM employee\n",
    "LIMIT 5;"
   ]
  },
  {
   "cell_type": "code",
   "execution_count": null,
   "id": "b6fb6f06",
   "metadata": {},
   "outputs": [],
   "source": [
    "-- Find the first and last names of all employees\n",
    "SELECT first_name, last_name\n",
    "FROM employee;"
   ]
  },
  {
   "cell_type": "code",
   "execution_count": null,
   "id": "6b4f2040",
   "metadata": {},
   "outputs": [],
   "source": [
    "-- Find the forename and surnames of all employees\n",
    "SELECT first_name AS forename, last_name AS surname\n",
    "FROM employee;"
   ]
  },
  {
   "cell_type": "code",
   "execution_count": null,
   "id": "754891b7",
   "metadata": {},
   "outputs": [],
   "source": [
    "-- Find out all the different genders\n",
    "SELECT DISTINCT sex\n",
    "FROM employee;"
   ]
  },
  {
   "cell_type": "code",
   "execution_count": null,
   "id": "9d7358e8",
   "metadata": {},
   "outputs": [],
   "source": [
    "-- Find out all the different branch_id employee table has\n",
    "SELECT DISTINCT branch_id\n",
    "FROM employee;"
   ]
  },
  {
   "cell_type": "code",
   "execution_count": null,
   "id": "7e62e74a",
   "metadata": {},
   "outputs": [],
   "source": []
  }
 ],
 "metadata": {
  "kernelspec": {
   "display_name": "Python 3 (ipykernel)",
   "language": "python",
   "name": "python3"
  },
  "language_info": {
   "codemirror_mode": {
    "name": "ipython",
    "version": 3
   },
   "file_extension": ".py",
   "mimetype": "text/x-python",
   "name": "python",
   "nbconvert_exporter": "python",
   "pygments_lexer": "ipython3",
   "version": "3.11.4"
  }
 },
 "nbformat": 4,
 "nbformat_minor": 5
}
