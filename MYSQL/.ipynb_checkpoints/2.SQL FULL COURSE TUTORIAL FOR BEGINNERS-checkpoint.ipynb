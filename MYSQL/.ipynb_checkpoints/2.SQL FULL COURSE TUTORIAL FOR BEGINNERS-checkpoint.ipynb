{
 "cells": [
  {
   "cell_type": "markdown",
   "id": "91f30423",
   "metadata": {},
   "source": [
    "## SQL Functions"
   ]
  },
  {
   "cell_type": "code",
   "execution_count": null,
   "id": "18e9399d",
   "metadata": {},
   "outputs": [],
   "source": [
    "-- Find the number of employees\n",
    "SELECT COUNT(emp_id)\n",
    "FROM employee;"
   ]
  },
  {
   "cell_type": "code",
   "execution_count": null,
   "id": "ebb816d3",
   "metadata": {},
   "outputs": [],
   "source": [
    "-- Find the number of employees that has supervisor\n",
    "SELECT COUNT(super_id)\n",
    "FROM employee;"
   ]
  },
  {
   "cell_type": "code",
   "execution_count": null,
   "id": "dd98192b",
   "metadata": {},
   "outputs": [],
   "source": [
    "-- Find the number of female employees born after 1970\n",
    "SELECT COUNT(emp_id)\n",
    "FROM employee\n",
    "WHERE SEX = 'F' AND birth_date > '1970-01-01';"
   ]
  },
  {
   "cell_type": "code",
   "execution_count": null,
   "id": "f7c76a94",
   "metadata": {},
   "outputs": [],
   "source": [
    "-- Find the average of all employees salaries\n",
    "SELECT AVG(salary)\n",
    "FROM employee;"
   ]
  },
  {
   "cell_type": "code",
   "execution_count": null,
   "id": "bd311941",
   "metadata": {},
   "outputs": [],
   "source": [
    "-- Find the average of all male employees salaries\n",
    "SELECT AVG(salary)\n",
    "FROM employee\n",
    "WHERE sex = 'M';"
   ]
  },
  {
   "cell_type": "code",
   "execution_count": null,
   "id": "23d74516",
   "metadata": {},
   "outputs": [],
   "source": [
    "-- Find the sum of all employees salaries\n",
    "SELECT SUM(salary)\n",
    "FROM employee;"
   ]
  },
  {
   "cell_type": "code",
   "execution_count": null,
   "id": "33f3016e",
   "metadata": {},
   "outputs": [],
   "source": [
    "-- Find out how many males and females there are\n",
    "SELECT COUNT(sex), sex\n",
    "FROM employee\n",
    "GROUP BY sex;"
   ]
  },
  {
   "cell_type": "code",
   "execution_count": null,
   "id": "779543c9",
   "metadata": {},
   "outputs": [],
   "source": [
    "-- Find the total sales of each salesman\n",
    "SELECT SUM(total_sales), emp_id\n",
    "FROM works_with\n",
    "GROUP BY emp_id;"
   ]
  },
  {
   "cell_type": "code",
   "execution_count": null,
   "id": "51f9b695",
   "metadata": {},
   "outputs": [],
   "source": [
    "-- Find the total sales of each client\n",
    "SELECT SUM(total_sales), client_id\n",
    "FROM works_with\n",
    "GROUP BY client_id;"
   ]
  },
  {
   "cell_type": "markdown",
   "id": "77eae626",
   "metadata": {},
   "source": [
    "## WildCards and Keywords in SQL"
   ]
  },
  {
   "cell_type": "markdown",
   "id": "fc0b8450",
   "metadata": {},
   "source": [
    "Wildcards is basically a way of defining different patterns that we want to match specific pieces of data to."
   ]
  },
  {
   "cell_type": "code",
   "execution_count": null,
   "id": "85623172",
   "metadata": {},
   "outputs": [],
   "source": [
    "-- % = any # characters, _ = one character\n",
    "\n",
    "-- Find any client's who are an LLC\n",
    "SELECT *\n",
    "FROM client\n",
    "WHERE client_name LIKE '%LLC ';"
   ]
  },
  {
   "cell_type": "code",
   "execution_count": null,
   "id": "cd34f410",
   "metadata": {},
   "outputs": [],
   "source": [
    "-- % = any # characters, _ = one character\n",
    "\n",
    "-- Find any branch suppliers who are in the label business\n",
    "SELECT *\n",
    "FROM branch\n",
    "WHERE supplier_name LIKE '% Label%';\n"
   ]
  },
  {
   "cell_type": "code",
   "execution_count": null,
   "id": "70da2a2f",
   "metadata": {},
   "outputs": [],
   "source": [
    "-- % = any # characters, _ = one character\n",
    "\n",
    "-- Find any employee born in october\n",
    "SELECT *\n",
    "FROM employee\n",
    "WHERE birth_Date LIKE '____-10%';\n"
   ]
  },
  {
   "cell_type": "code",
   "execution_count": null,
   "id": "af0eaf51",
   "metadata": {},
   "outputs": [],
   "source": [
    "-- % = any # characters, _ = one character\n",
    "\n",
    "-- Find any employee born in Febuary\n",
    "SELECT *\n",
    "FROM employee\n",
    "WHERE birth_Date LIKE '____-02%';"
   ]
  },
  {
   "cell_type": "code",
   "execution_count": null,
   "id": "dee4b28c",
   "metadata": {},
   "outputs": [],
   "source": [
    "-- % = any # characters, _ = one character\n",
    "\n",
    "-- Find any clients who are schools \n",
    "SELECT *\n",
    "FROM client\n",
    "WHERE client_name LIKE '%school%';"
   ]
  },
  {
   "cell_type": "markdown",
   "id": "87571639",
   "metadata": {},
   "source": [
    "## UNION OPERATOR\n",
    "\n",
    "Union basically combines the results from two separate statements"
   ]
  },
  {
   "cell_type": "code",
   "execution_count": null,
   "id": "fdc0929c",
   "metadata": {},
   "outputs": [],
   "source": [
    "-- Find a list of employee and branch names\n",
    "SELECT first_name\n",
    "FROM employee; # To selecet all the first names of the emp table\n"
   ]
  },
  {
   "cell_type": "code",
   "execution_count": null,
   "id": "772e269a",
   "metadata": {},
   "outputs": [],
   "source": [
    "-- Find a list of employee and branch names\n",
    "SELECT first_name\n",
    "FROM employee; # To selecet all the first names of the emp table\n",
    "UNION\n",
    "SELECT branch_name\n",
    "FROM branch;"
   ]
  },
  {
   "cell_type": "markdown",
   "id": "d9dec3a2",
   "metadata": {},
   "source": [
    "### Union Conditions\n",
    "\n",
    "1. They must have the same number of columns\n",
    "\n",
    "2. They must be the same data types\n",
    "\n"
   ]
  },
  {
   "cell_type": "code",
   "execution_count": null,
   "id": "57c5dfbc",
   "metadata": {},
   "outputs": [],
   "source": [
    "-- Find a list of employee, client_name and branch names\n",
    "SELECT first_name\n",
    "FROM employee; # To selecet all the first names of the emp table\n",
    "UNION\n",
    "SELECT branch_name\n",
    "FROM branch ; \n",
    "UNION\n",
    "SELECT client_name\n",
    "FROM client;"
   ]
  },
  {
   "cell_type": "code",
   "execution_count": null,
   "id": "0e99a5eb",
   "metadata": {},
   "outputs": [],
   "source": [
    "-- Find a list of employee, client_name and branch names\n",
    "SELECT first_name AS Company_Names\n",
    "FROM employee; # To selecet all the first names of the emp table\n",
    "UNION\n",
    "SELECT branch_name\n",
    "FROM branch ; \n",
    "UNION\n",
    "SELECT client_name\n",
    "FROM client;"
   ]
  },
  {
   "cell_type": "code",
   "execution_count": null,
   "id": "e3a15d78",
   "metadata": {},
   "outputs": [],
   "source": [
    "-- Find a list of all clients & branch suppliers' names\n",
    "SELECT client_name\n",
    "FROM client\n",
    "UNION\n",
    "SELECT supplier_name\n",
    "FROM branch_name"
   ]
  },
  {
   "cell_type": "code",
   "execution_count": null,
   "id": "84d34063",
   "metadata": {},
   "outputs": [],
   "source": [
    "-- Find a list of all clients & branch suppliers' names & their branch id's\n",
    "SELECT client_name, branch_id\n",
    "FROM client\n",
    "UNION\n",
    "SELECT supplier_name, branch_id\n",
    "FROM branch_supplier;"
   ]
  },
  {
   "cell_type": "code",
   "execution_count": null,
   "id": "04d463a2",
   "metadata": {},
   "outputs": [],
   "source": [
    "-- Find a list of all clients & branch suppliers' names & their branch id's\n",
    "SELECT client_name, client.branch_id\n",
    "FROM client\n",
    "UNION\n",
    "SELECT supplier_name, branch_supplier.branch_id\n",
    "FROM branch_supplier;"
   ]
  },
  {
   "cell_type": "code",
   "execution_count": null,
   "id": "2dd1d717",
   "metadata": {},
   "outputs": [],
   "source": [
    "--Find a list of all money spent by the company \n",
    "SELECT salary\n",
    "FROM employee\n",
    "UNION\n",
    "SELECT total_sales    \n",
    "FROM works_with;  "
   ]
  },
  {
   "cell_type": "markdown",
   "id": "4d4ebafe",
   "metadata": {},
   "source": [
    "## JOINS (3:01:36)"
   ]
  },
  {
   "cell_type": "markdown",
   "id": "883a7fbe",
   "metadata": {},
   "source": [
    "A Join is used to combine rows from two or more tables based on the related columns.\n",
    "\n",
    "4 Types of Joins\n",
    "\n",
    "Inner Join (Normal Join)\n",
    "\n",
    "Left Join\n",
    "\n",
    "Right Join\n",
    "\n",
    "full-Outer Join (Left & Right Joins combined)"
   ]
  },
  {
   "cell_type": "code",
   "execution_count": null,
   "id": "d019f64c",
   "metadata": {},
   "outputs": [],
   "source": [
    "INSERT INTO branch VALUES(4, 'Buffalo', NULL, NULL); "
   ]
  },
  {
   "cell_type": "code",
   "execution_count": null,
   "id": "985fc165",
   "metadata": {},
   "outputs": [],
   "source": [
    "#Inner Join (Normal Join)\n",
    "--Find all branches and the names of their managers\n",
    "SELECT employee.emp_id, employee.first_name, branch.branch_name;\n",
    "JOIN branch\n",
    "ON employee.emp_id = branch.mgr_id;"
   ]
  },
  {
   "cell_type": "code",
   "execution_count": null,
   "id": "2c723177",
   "metadata": {},
   "outputs": [],
   "source": [
    "# Left Join\n",
    "--Find all branches and the names of their managers\n",
    "SELECT employee.emp_id, employee.first_name, branch.branch_name;\n",
    "LEFT JOIN branch\n",
    "ON employee.emp_id = branch.mgr_id;\n"
   ]
  },
  {
   "cell_type": "code",
   "execution_count": null,
   "id": "b114697f",
   "metadata": {},
   "outputs": [],
   "source": [
    "# Right Join\n",
    "--Find all branches and the names of their managers\n",
    "SELECT employee.emp_id, employee.first_name, branch.branch_name;\n",
    "Right JOIN branch\n",
    "ON employee.emp_id = branch.mgr_id;\n"
   ]
  },
  {
   "cell_type": "markdown",
   "id": "e48a9410",
   "metadata": {},
   "source": [
    "### NESTED QUERIES (3:11:51)"
   ]
  },
  {
   "cell_type": "markdown",
   "id": "0b65041f",
   "metadata": {},
   "source": [
    "A nested query is a query where we use multiple select statement inorder to get a specific piece of information.\n"
   ]
  },
  {
   "cell_type": "code",
   "execution_count": null,
   "id": "99239872",
   "metadata": {},
   "outputs": [],
   "source": [
    "-- Find names of all employees who have\n",
    "-- sold over 30,000 to a single client\n",
    "\n",
    "SELECT employee.first_name, employee.last_name\n",
    "FROM employee\n",
    "WHERE employee.emp_id IN (\n",
    "    SELECT works_with.emp_id\n",
    "    FROM works_with\n",
    "    WHERE works_with.total_sales > 30000\n",
    ");"
   ]
  },
  {
   "cell_type": "code",
   "execution_count": null,
   "id": "2c964e30",
   "metadata": {},
   "outputs": [],
   "source": [
    "-- Find all clients who are handled by the branch\n",
    "-- that Michael Scott manages\n",
    "--Assume you know Michael's ID\n",
    "\n",
    "SELECT client.client_name\n",
    "FROM client\n",
    "WHERE client.branch_id = (\n",
    "    SELECT branch.branch_id\n",
    "    FROM branch\n",
    "    WHERE brnach.branch_id = 102\n",
    "    LIMIT 1 # to ensure it returns just one value not multiple\n",
    ");"
   ]
  },
  {
   "cell_type": "markdown",
   "id": "9b4cb67a",
   "metadata": {},
   "source": [
    "### ON DELETE (3:21:53)"
   ]
  },
  {
   "cell_type": "code",
   "execution_count": null,
   "id": "60740b39",
   "metadata": {},
   "outputs": [],
   "source": [
    "CREATE TABLE branch (\n",
    "    branch_id INT PRIMARY KEY,\n",
    "    branch_name VARCHAR(40),\n",
    "    mgr_id INT,\n",
    "    mgr_Start_date DATE,\n",
    "    FOREIGN KEY(mgr_id) REFERENCES employee(emp_id) ON DELETE SET NULL\n",
    ");\n",
    "\n",
    "DELETE FROM employee\n",
    "WHERE emp_id = 102;\n",
    "\n",
    "SELECT * from branch;"
   ]
  },
  {
   "cell_type": "markdown",
   "id": "52cecb44",
   "metadata": {},
   "source": [
    "![](pics/ondelete.png)"
   ]
  },
  {
   "cell_type": "code",
   "execution_count": null,
   "id": "3edb4bf5",
   "metadata": {},
   "outputs": [],
   "source": [
    "CREATE TABLE branch (\n",
    "    branch_id INT PRIMARY KEY,\n",
    "    branch_name VARCHAR(40),\n",
    "    mgr_id INT,\n",
    "    mgr_Start_date DATE,\n",
    "    FOREIGN KEY(mgr_id) REFERENCES employee(emp_id) ON DELETE SET NULL\n",
    ");\n",
    "\n",
    "DELETE FROM employee\n",
    "WHERE emp_id = 102;\n",
    "\n",
    "SELECT * from branch;"
   ]
  },
  {
   "cell_type": "markdown",
   "id": "f1392024",
   "metadata": {},
   "source": [
    "![](pics/ondelete1.png)"
   ]
  },
  {
   "cell_type": "code",
   "execution_count": null,
   "id": "45ab933a",
   "metadata": {},
   "outputs": [],
   "source": [
    "CREATE TABLE branch_supplier (\n",
    "    branch_id INT,\n",
    "    supplier_name VARCHAR(40),\n",
    "    supply_type VARCHAR(40),\n",
    "    PRIMARY KEY(branch_id, supplier_name),\n",
    "    FOREIGN KEY(branch_id) REFERENCES branch(branch_id) ON DELETE CASCADE\n",
    ");\n",
    "\n",
    "DELETE FROM branch\n",
    "WHERE branch_id = 2;\n",
    "\n",
    "SELECT * from branch_supplier;"
   ]
  },
  {
   "cell_type": "markdown",
   "id": "fb3e30e4",
   "metadata": {},
   "source": [
    "![](pics/ondeletecas.png)"
   ]
  },
  {
   "cell_type": "code",
   "execution_count": null,
   "id": "8110f0fb",
   "metadata": {},
   "outputs": [],
   "source": [
    "CREATE TABLE branch_supplier (\n",
    "    branch_id INT,\n",
    "    supplier_name VARCHAR(40),\n",
    "    supply_type VARCHAR(40),\n",
    "    PRIMARY KEY(branch_id, supplier_name),\n",
    "    FOREIGN KEY(branch_id) REFERENCES branch(branch_id) ON DELETE CASCADE\n",
    ");\n",
    "\n",
    "\n",
    "CREATE TABLE branch (\n",
    "    branch_id INT PRIMARY KEY,\n",
    "    branch_name VARCHAR(40),\n",
    "    mgr_id INT,\n",
    "    mgr_Start_date DATE,\n",
    "    FOREIGN KEY(mgr_id) REFERENCES employee(emp_id) ON DELETE SET NULL\n",
    ");"
   ]
  },
  {
   "cell_type": "markdown",
   "id": "8e261d82",
   "metadata": {},
   "source": [
    "### TRIGGERS (3:30:06)"
   ]
  },
  {
   "cell_type": "code",
   "execution_count": null,
   "id": "180399aa",
   "metadata": {},
   "outputs": [],
   "source": [
    "CREATE TABLE trigger_test (\n",
    "    message VARCHAR(100)\n",
    "); # Create a table with one field called \"messsage\""
   ]
  },
  {
   "cell_type": "code",
   "execution_count": null,
   "id": "b9b84c3d",
   "metadata": {},
   "outputs": [],
   "source": [
    "DELIMITER $$\n",
    "CREATE\n",
    "    TRIGGER my_trigger BEFORE INSERT\n",
    "    ON employee\n",
    "    FOR EACH ROW BEGIN\n",
    "        INSERT INTO trigger_test VALUES('added new employee');\n",
    "    END$$\n",
    "DELIMITER;"
   ]
  },
  {
   "cell_type": "code",
   "execution_count": null,
   "id": "0616a17a",
   "metadata": {},
   "outputs": [],
   "source": [
    "# TO ADD NEW ENTRY\n",
    "DELIMITER $$\n",
    "CREATE\n",
    "    TRIGGER my_trigger BEFORE INSERT\n",
    "    ON employee\n",
    "    FOR EACH ROW BEGIN\n",
    "        INSERT INTO trigger_test VALUES('added new employee');\n",
    "    END$$\n",
    "DELIMITER;\n",
    "\n",
    "INSERT INTO employee\n",
    "VALUES(109, 'Oscar', 'Martinez', '1968-02-19', 'M', 69000, 106, 3);\n",
    "\n",
    "SELECT * FROM trigger_test;"
   ]
  },
  {
   "cell_type": "code",
   "execution_count": null,
   "id": "3b4e62ff",
   "metadata": {},
   "outputs": [],
   "source": [
    "# TO ADD NEW ENTRY\n",
    "DELIMITER $$\n",
    "CREATE\n",
    "    TRIGGER my_trigger BEFORE INSERT\n",
    "    ON employee\n",
    "    FOR EACH ROW BEGIN\n",
    "        INSERT INTO trigger_test VALUES('added new employee');\n",
    "    END$$\n",
    "DELIMITER;\n",
    "\n",
    "INSERT INTO employee\n",
    "VALUES(110, 'Kevin', 'Malone', '1978-02-19', 'M', 69000, 106, 3);\n",
    "\n",
    "SELECT * FROM trigger_test;"
   ]
  },
  {
   "cell_type": "code",
   "execution_count": null,
   "id": "f5a5ea4b",
   "metadata": {},
   "outputs": [],
   "source": [
    "# add new entries using conditions\n",
    "DELIMITER $$\n",
    "CREATE\n",
    "    TRIGGER my_trigger2 BEFORE INSERT\n",
    "    ON employee\n",
    "    FOR EACH ROW BEGIN\n",
    "        IF NEW.sex = 'M' THEN\n",
    "            INSERT INTO trigger_test VALUES('added male employee');\n",
    "        ELSEIF NEW.sex = 'F' THEN\n",
    "            INSERT INTO trigger_test VALUES('added female');\n",
    "        ELSE\n",
    "            INSERT INTO trigger_test VALUES('added other employee');\n",
    "        END IF;\n",
    "    END$$\n",
    "DELIMITER;\n",
    "\n",
    "INSERT INTO employee\n",
    "VALUES(111, 'Pam', 'Beesly', '1988-02-19', 'f', 69000, 106, 3);\n",
    "\n",
    "SELECT * FROM trigger_test;"
   ]
  },
  {
   "cell_type": "code",
   "execution_count": null,
   "id": "64c50cbe",
   "metadata": {},
   "outputs": [],
   "source": []
  },
  {
   "cell_type": "code",
   "execution_count": null,
   "id": "116ecb11",
   "metadata": {},
   "outputs": [],
   "source": []
  },
  {
   "cell_type": "code",
   "execution_count": null,
   "id": "e4b15952",
   "metadata": {},
   "outputs": [],
   "source": []
  },
  {
   "cell_type": "code",
   "execution_count": null,
   "id": "c42924de",
   "metadata": {},
   "outputs": [],
   "source": []
  }
 ],
 "metadata": {
  "kernelspec": {
   "display_name": "Python 3 (ipykernel)",
   "language": "python",
   "name": "python3"
  },
  "language_info": {
   "codemirror_mode": {
    "name": "ipython",
    "version": 3
   },
   "file_extension": ".py",
   "mimetype": "text/x-python",
   "name": "python",
   "nbconvert_exporter": "python",
   "pygments_lexer": "ipython3",
   "version": "3.11.4"
  }
 },
 "nbformat": 4,
 "nbformat_minor": 5
}
